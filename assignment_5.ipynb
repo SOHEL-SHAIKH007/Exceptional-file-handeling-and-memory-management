{
  "nbformat": 4,
  "nbformat_minor": 0,
  "metadata": {
    "colab": {
      "provenance": []
    },
    "kernelspec": {
      "name": "python3",
      "display_name": "Python 3"
    },
    "language_info": {
      "name": "python"
    }
  },
  "cells": [
    {
      "cell_type": "markdown",
      "source": [
        "# File **handling**"
      ],
      "metadata": {
        "id": "11L-SeqoTsEI"
      }
    },
    {
      "cell_type": "markdown",
      "source": [
        "1.What is difference between interpreted and compiled langauge\n",
        "\n",
        "->compiled langauge are translated in machine langauge first while interpreted langauge is translated into binary then in machine langauge  in lineby line manner"
      ],
      "metadata": {
        "id": "dTJ_5Jr9Tr_g"
      }
    },
    {
      "cell_type": "markdown",
      "source": [
        "2. What is exception handeling in python\n",
        "\n",
        "-> refers to the process of anticipating and managing runtime errors or unexpected events that occur during the execution of a program."
      ],
      "metadata": {
        "id": "eUcmpQZzTr8x"
      }
    },
    {
      "cell_type": "markdown",
      "source": [
        "3. What is the purpode of the finallyblock in handeling\n",
        "\n",
        "->finally block in exception handling ensures that specific code, typically for cleanup or resource release, executes regardless of whether an exception is thrown or caught."
      ],
      "metadata": {
        "id": "F6KcPMZmTr6A"
      }
    },
    {
      "cell_type": "markdown",
      "source": [
        "4. What is logging in python\n",
        "\n",
        "-> the process of recording events that occur during the execution of a software program"
      ],
      "metadata": {
        "id": "tAQbwo5VTr3R"
      }
    },
    {
      "cell_type": "markdown",
      "source": [
        "5. What is the significance of the _ _del_ _ method in python\n",
        "\n",
        "->The __del__ method in Python serves as a destructor. Its significance lies in providing a mechanism to define cleanup actions that should be performed when an object is about to be destroyed, typically during garbage collection."
      ],
      "metadata": {
        "id": "lkDFlcSuTr0A"
      }
    },
    {
      "cell_type": "markdown",
      "source": [
        "6. What is the difference between import and import from in python\n",
        "->In Python, both import and from ... import statements are used to bring modules or specific components from modules into the current namespace, but they differ in how they manage the imported names"
      ],
      "metadata": {
        "id": "fuLKYiV-Ul75"
      }
    },
    {
      "cell_type": "markdown",
      "source": [
        "7. How can you handle multiple exception in python\n",
        "\n",
        "->In Python, multiple exceptions can be handled within try-except blocks"
      ],
      "metadata": {
        "id": "UQcLvHoHUl1g"
      }
    },
    {
      "cell_type": "markdown",
      "source": [
        "8. What is the purpose of the with statement while handeling file in python\n",
        "->The with statement in Python, when used for file handling, serves the primary purpose of ensuring proper resource management and simplifying code. It achieves this by acting as a context manager, automatically handling the opening and closing of files."
      ],
      "metadata": {
        "id": "mcy9akJLUlsi"
      }
    },
    {
      "cell_type": "markdown",
      "source": [
        "9.What is the difference between multithreding and multitasking\n",
        "->Multitasking involves running multiple programs concurrently, while multithreading involves running multiple parts (threads) of a single program at the same time .\n"
      ],
      "metadata": {
        "id": "VO3FEZk0Uk8Y"
      }
    },
    {
      "cell_type": "markdown",
      "source": [
        "10. What sare advantages of using logging in a program\n",
        "\n",
        "->Using logging in a program offers several significant advantages, particularly over simple print statements for debugging and monitoring"
      ],
      "metadata": {
        "id": "TO_Jyt8NTrvx"
      }
    },
    {
      "cell_type": "markdown",
      "source": [
        "11. What is the memory management in python\n",
        "\n",
        "->Memory management in Python refers to the system that handles the allocation and deallocation of memory resources for Python objects during program execution"
      ],
      "metadata": {
        "id": "WOW_A-ycTrsC"
      }
    },
    {
      "cell_type": "markdown",
      "source": [
        "12. What are the basic step involve in excetion handeling  in python\n",
        "->The basic steps involved in exception handling in Python using try, except, else, and finally blocks are as follows"
      ],
      "metadata": {
        "id": "4Bhy-AroTrqC"
      }
    },
    {
      "cell_type": "markdown",
      "source": [
        "13. Why is memory management is important in python  \n",
        "\n",
        "->because it directly impacts an application's performance, stability, and resource usage"
      ],
      "metadata": {
        "id": "fygCt44tTrnQ"
      }
    },
    {
      "cell_type": "markdown",
      "source": [
        "14. What is the role of try and except in exception handeling\n",
        "\n",
        "->try Block:\n",
        "This block encloses the code segment that is susceptible to raising an exception. The program \"tries\" to execute the code within this block.\n",
        "except Block:\n",
        "This block is designed to \"catch\" and handle specific types of exceptions that might be raised within the associated try block. If an exception occurs in the try block and matches the type specified in an except block, the code within that except block is executed."
      ],
      "metadata": {
        "id": "bvM-QpaFTrlR"
      }
    },
    {
      "cell_type": "markdown",
      "source": [
        "15. How does python's garbage collection system work\n",
        "\n",
        "->Python employs a hybrid approach to garbage collection, combining reference counting with a generational garbage collector to handle memory management automatically."
      ],
      "metadata": {
        "id": "vuix-gwLTria"
      }
    },
    {
      "cell_type": "markdown",
      "source": [
        "16. What is the purpose of else block in exceptional handeling\n",
        "\n",
        "->The else block in exception handling, particularly in Python's try...except...else construct, serves a specific purpose: to execute code only if no exception is raised within the corresponding try block."
      ],
      "metadata": {
        "id": "iCOHycwWTrfJ"
      }
    },
    {
      "cell_type": "markdown",
      "source": [
        "17. What are the common logging level in python\n",
        "\n",
        "->Python's logging module provides several standard logging levels to categorize the severity of messages. These levels help in filtering and managing log output, especially in production environments."
      ],
      "metadata": {
        "id": "ZIlETf9dW1f4"
      }
    },
    {
      "cell_type": "markdown",
      "source": [
        "18. Whta is the difference between filr.read() and multiproccesing in python\n",
        "->The multiprocessing module is used for achieving true parallelism by creating and managing multiple independent processes.\n",
        "file.read() is a method used for Input/Output (I/O) operations, specifically for reading data from a file opened in Python."
      ],
      "metadata": {
        "id": "o-av8W-AW1bx"
      }
    },
    {
      "cell_type": "markdown",
      "source": [
        "19. What is the importance of closing a file in python\n",
        "-> closing files in Python is essential to prevent resource leaks, ensure data integrity, avoid file locking issues, enhance code robustness, and adhere to good programming practices."
      ],
      "metadata": {
        "id": "7VSxN0xpW1SP"
      }
    },
    {
      "cell_type": "markdown",
      "source": [
        "20. What is the difference between file.read() and file.readline() in python\n",
        "->file.read:\n",
        "This method reads the entire content of the file and returns it as a single string.\n",
        "file.readline:\n",
        "This method reads a single line from the file until it encounters a newline character (\\n) or reaches the end of the file.\n"
      ],
      "metadata": {
        "id": "ymw2iv9-W1Mw"
      }
    },
    {
      "cell_type": "markdown",
      "source": [
        "21. What is the logging module in python used foe\n",
        "\n",
        "->It provides a structured and flexible way to record information about a program's execution, offering significant advantages over simply using print() statements for debugging."
      ],
      "metadata": {
        "id": "g55K0-M5W0uQ"
      }
    },
    {
      "cell_type": "markdown",
      "source": [
        "22. What is the OS module in python used for\n",
        "\n",
        "->The os module in Python provides a way to interact with the operating system. It offers a wide range of functions to perform operating system-dependent tasks, allowing Python programs to manage files, directories, processes, and environment variables"
      ],
      "metadata": {
        "id": "hDQBaeNYXnji"
      }
    },
    {
      "cell_type": "markdown",
      "source": [
        "23. What are the challenges associated with memory management in python\n",
        "->High Memory Consumption\n",
        "Cyclic References and Garbage Collection\n",
        "Memory Fragmentation\n",
        "Difficulty in Diagnosing Memory Issues"
      ],
      "metadata": {
        "id": "gkW-8FZ7XnZ5"
      }
    },
    {
      "cell_type": "markdown",
      "source": [
        "24. How do you raise an exception in python\n",
        "\n",
        "->Custom exceptions are created by defining a new class that inherits from the Exception class or one of its subclasses. This allows for more specific error handling tailored to the application's needs."
      ],
      "metadata": {
        "id": "--wzGwM_XnIY"
      }
    },
    {
      "cell_type": "markdown",
      "source": [
        "25. Why is it important to use multithreding in certain application\n",
        "->Multithreading is crucial for enhancing application performance and responsiveness, particularly in scenarios involving concurrency and parallel processing. By allowing multiple threads to execute simultaneously within a single process, it enables efficient resource utilization and improved overall system performance."
      ],
      "metadata": {
        "id": "UgFlp7JUXnBQ"
      }
    },
    {
      "cell_type": "markdown",
      "source": [
        "# **Practical question **"
      ],
      "metadata": {
        "id": "vcOZDOC8YT-Q"
      }
    },
    {
      "cell_type": "code",
      "execution_count": 35,
      "metadata": {
        "id": "uYVxz0w4TKIN",
        "colab": {
          "base_uri": "https://localhost:8080/"
        },
        "outputId": "763d4ee1-0b7c-4935-ee81-150065b09450"
      },
      "outputs": [
        {
          "output_type": "stream",
          "name": "stdout",
          "text": [
            "String successfully written to 'my_file.txt'.\n"
          ]
        }
      ],
      "source": [
        "#1.How can you open a file for writing in python and write a string to it\n",
        "with open(\"my_file.txt\", \"w\") as file:\n",
        "\n",
        "    file.write(\"This is a string that will be written to the file.\\n\")\n",
        "    file.write(\"This is a second line of text.\")\n",
        "\n",
        "print(\"String successfully written to 'my_file.txt'.\")"
      ]
    },
    {
      "cell_type": "code",
      "source": [
        "#2.Write a python program to read the content of the file and print each line\n",
        "def read_and_print_file_lines(filename):\n",
        "\n",
        "    try:\n",
        "        with open(filename, 'r') as file:\n",
        "            for line in file:\n",
        "                print(line.strip())\n",
        "    except FileNotFoundError:\n",
        "        print(f\"Error: The file '{filename}' was not found.\")\n",
        "    except Exception as e:\n",
        "        print(f\"An error occurred: {e}\")"
      ],
      "metadata": {
        "id": "N1GA-YKGYYmr"
      },
      "execution_count": 34,
      "outputs": []
    },
    {
      "cell_type": "code",
      "source": [
        "#3.How would you handle a case where the file doesen't exist while trying to open it for readig\n",
        "try:\n",
        "    with open(\"my_file.txt\", \"r\") as file:\n",
        "        content = file.read()\n",
        "except FileNotFoundError:\n",
        "    print(\"Error: The file was not found.\")  # Inform the user\n",
        "    content = \"Default content if file not found\""
      ],
      "metadata": {
        "id": "jqPj-3ySTpzR",
        "colab": {
          "base_uri": "https://localhost:8080/"
        },
        "outputId": "a64847a8-b253-47f9-8a5b-953deb7df79f"
      },
      "execution_count": 33,
      "outputs": [
        {
          "output_type": "stream",
          "name": "stdout",
          "text": [
            "Error: The file was not found.\n"
          ]
        }
      ]
    },
    {
      "cell_type": "code",
      "source": [
        "#4.Write a python script that reads from one file and write its content to another file\n",
        "def copy_file_content(source_file_path, destination_file_path):\n",
        "\n",
        "    try:\n",
        "        with open(source_file_path, 'r') as source_file:\n",
        "            content = source_file.read()  # Read the entire content of the source file\n",
        "\n",
        "        with open(destination_file_path, 'w') as destination_file:\n",
        "            destination_file.write(content)  # Write the content to the destination file\n",
        "\n",
        "        print(f\"Content successfully copied from '{source_file_path}' to '{destination_file_path}'.\")\n",
        "\n",
        "    except FileNotFoundError:\n",
        "        print(f\"Error: One of the files was not found. Please check the paths.\")\n",
        "    except Exception as e:\n",
        "        print(f\"An error occurred: {e}\")\n"
      ],
      "metadata": {
        "id": "hYN1S_9tTp-R"
      },
      "execution_count": 98,
      "outputs": []
    },
    {
      "cell_type": "code",
      "source": [
        "#5. How would you catch and handle division bh zero error in python\n",
        "try:\n",
        "    numerator = 10\n",
        "    denominator = 0\n",
        "    result = numerator / denominator\n",
        "    print(f\"The result is: {result}\")\n",
        "except ZeroDivisionError:\n",
        "    print(\"Error: Cannot divide by zero!\")\n",
        "\n",
        "    result = None\n",
        "    print(f\"Result set to: {result}\")"
      ],
      "metadata": {
        "id": "78enGT6JTqHl",
        "colab": {
          "base_uri": "https://localhost:8080/"
        },
        "outputId": "ad4825fe-0734-4247-d52f-b33ed90b8ed8"
      },
      "execution_count": 97,
      "outputs": [
        {
          "output_type": "stream",
          "name": "stdout",
          "text": [
            "Error: Cannot divide by zero!\n",
            "Result set to: None\n"
          ]
        }
      ]
    },
    {
      "cell_type": "code",
      "source": [
        "#6.Write a python program that logs an error message to alog file when andivision by zero exception occur\n",
        "import logging\n",
        "\n",
        "# Configure the logging\n",
        "logging.basicConfig(\n",
        "    filename='error.log',  # Name of the log file\n",
        "    level=logging.ERROR,   # Log messages with severity ERROR and above\n",
        "    format='%(asctime)s - %(levelname)s - %(message)s' # Format of log messages\n",
        ")\n",
        "\n",
        "def divide_numbers(numerator, denominator):\n",
        "\n",
        "\n",
        "    try:\n",
        "        result = numerator / denominator\n",
        "        print(f\"Result of division: {result}\")\n",
        "        return result\n",
        "    except ZeroDivisionError:\n",
        "        error_message = (f\"Attempted to divide {numerator} by z# Log the error message\")\n",
        "        print(\"Error: Cannot divide by zero. Check error.log for details.\")\n",
        "        return None"
      ],
      "metadata": {
        "id": "QPV0FRVlTqSZ"
      },
      "execution_count": 40,
      "outputs": []
    },
    {
      "cell_type": "code",
      "source": [
        "#7.How do you log information at different level (INFO,ERROR,WARNING) in python using the logging moduke\n",
        "import logging\n",
        "logging.basicConfig(level=logging.INFO, format='%(levelname)s: %(message)s')\n",
        "logging.info(\"This is an informational message.\")\n",
        "logging.warning(\"This is a warning message, something unusual happened.\")\n",
        "logging.error(\"This is an error message, a critical operation failed.\")"
      ],
      "metadata": {
        "id": "NebehD-faDf5",
        "colab": {
          "base_uri": "https://localhost:8080/"
        },
        "outputId": "7bd58ed3-097b-4f94-dbdf-a71803ca0504"
      },
      "execution_count": 44,
      "outputs": [
        {
          "output_type": "stream",
          "name": "stderr",
          "text": [
            "WARNING:root:This is a warning message, something unusual happened.\n",
            "ERROR:root:This is an error message, a critical operation failed.\n"
          ]
        }
      ]
    },
    {
      "cell_type": "code",
      "source": [
        "#8.Write a program to handle a file opening error using exception handeling\n",
        "def open_and_read_file(filename):\n",
        "  try:\n",
        "    with open(filename, 'r') as file:\n",
        "      content = file.read()\n",
        "      print(f\"File content:\\n{content}\")\n",
        "  except FileNotFoundError:\n",
        "    print(f\"Error: The file '{filename}' was not found.\")\n",
        "    print(\"Please check the filename and path.\")\n",
        "  except IOError as e:\n",
        "    print(f\"An I/O error occurred while reading the file: {e}\")\n",
        "  finally:\n",
        "    print(\"File operation attempt completed.\")"
      ],
      "metadata": {
        "id": "HYns2pXWaYlY"
      },
      "execution_count": 46,
      "outputs": []
    },
    {
      "cell_type": "code",
      "source": [
        "#9.How can you read a fule line by line and store its content in a list in python\n",
        "file_path = \"your_file.txt\"\n",
        "lines_list = []\n",
        "\n",
        "try:\n",
        "    with open(file_path, 'r') as file:\n",
        "        lines_list = file.readlines()\n",
        "except FileNotFoundError:\n",
        "    print(f\"Error: The file '{file_path}' was not found.\")\n",
        "except Exception as e:\n",
        "    print(f\"An error occurred: {e}\")\n",
        "\n",
        "print(lines_list)"
      ],
      "metadata": {
        "id": "TbtuvUGCaYzd",
        "colab": {
          "base_uri": "https://localhost:8080/"
        },
        "outputId": "2412c8ba-50c9-4798-94a2-72ea2abdf255"
      },
      "execution_count": 48,
      "outputs": [
        {
          "output_type": "stream",
          "name": "stdout",
          "text": [
            "Error: The file 'your_file.txt' was not found.\n",
            "[]\n"
          ]
        }
      ]
    },
    {
      "cell_type": "code",
      "source": [
        "#10.How can you appened data to an excisting fike in python\n",
        "\n",
        "with open(\"my_file.txt\", \"a\") as file:\n",
        "    # Write the new content to the file\n",
        "    file.write(\"This is new content being appended.\\n\")\n",
        "    file.write(\"Another line of appended text.\\n\")\n",
        "\n",
        "\n",
        ""
      ],
      "metadata": {
        "id": "vwiuaVt6bBYg"
      },
      "execution_count": 49,
      "outputs": []
    },
    {
      "cell_type": "code",
      "source": [
        "#11.Write a python program that uses try-except bloack to handle an error when attempting accese a dictionary key that doesn't exist\n",
        "my_dict = {\"name\": \"Alice\", \"age\": 30, \"city\": \"New York\"}\n",
        "\n",
        "key_to_access_existing = \"name\"\n",
        "key_to_access_non_existing = \"occupation\"\n",
        "\n",
        "try:\n",
        "    value_existing = my_dict[key_to_access_existing]\n",
        "    print(f\"Value for '{key_to_access_existing}': {value_existing}\")\n",
        "except KeyError:\n",
        "    print(f\"Error: The key '{key_to_access_existing}' does not exist in the dictionary.\")\n",
        "\n",
        "print(\"-\" * 30)\n",
        "try:\n",
        "    value_non_existing = my_dict[key_to_access_non_existing]\n",
        "    print(f\"Value for '{key_to_access_non_existing}': {value_non_existing}\")\n",
        "except KeyError as e:\n",
        "    print(f\"Error: The key '{e}' does not exist in the dictionary.\")"
      ],
      "metadata": {
        "id": "9KzxJ27jbBVZ",
        "colab": {
          "base_uri": "https://localhost:8080/"
        },
        "outputId": "d2c3d4c5-6f69-49a0-a3e3-6519315f63c1"
      },
      "execution_count": 51,
      "outputs": [
        {
          "output_type": "stream",
          "name": "stdout",
          "text": [
            "Value for 'name': Alice\n",
            "------------------------------\n",
            "Error: The key ''occupation'' does not exist in the dictionary.\n"
          ]
        }
      ]
    },
    {
      "cell_type": "code",
      "source": [
        "#12.Write a program that demonstrate using ,multiple except blocks to handle different types of exceptions\n",
        "def handle_multiple_exceptions():\n",
        "    try:\n",
        "        num1_str = input(\"Enter the first number: \")\n",
        "        num2_str = input(\"Enter the second number: \")\n",
        "\n",
        "        num1 = int(num1_str)\n",
        "        num2 = int(num2_str)\n",
        "\n",
        "        result = num1 / num2\n",
        "        print(f\"The result of division is: {result}\")\n",
        "\n",
        "    except ValueError:\n",
        "        print(\"Error: Invalid input. Please enter valid integers.\")\n",
        "    except ZeroDivisionError:\n",
        "        print(\"Error: Cannot divide by zero. Please enter a non-zero second number.\")\n",
        "    except Exception as e:  # Catch any other unexpected exceptions\n",
        "        print(f\"An unexpected error occurred: {e}\")\n",
        "    finally:\n",
        "        print(\"Exception handling demonstration complete.\")\n",
        "handle_multiple_exceptions()"
      ],
      "metadata": {
        "id": "apvvFENwa62v",
        "colab": {
          "base_uri": "https://localhost:8080/"
        },
        "outputId": "a54e4a55-ce7f-4fd0-b4d3-f32449e30912"
      },
      "execution_count": 96,
      "outputs": [
        {
          "output_type": "stream",
          "name": "stdout",
          "text": [
            "Enter the first number: 5\n",
            "Enter the second number: 8\n",
            "The result of division is: 0.625\n",
            "Exception handling demonstration complete.\n"
          ]
        }
      ]
    },
    {
      "cell_type": "code",
      "source": [
        "#13.Hiw would you check a file exist before attempting to read in python\n",
        "import os\n",
        "\n",
        "file_path = \"my_document.txt\"\n",
        "\n",
        "if os.path.isfile(file_path):\n",
        "    try:\n",
        "        with open(file_path, 'r') as file:\n",
        "            content = file.read()\n",
        "            print(\"File content:\", content)\n",
        "    except IOError as e:\n",
        "        print(f\"Error reading file: {e}\")\n",
        "else:\n",
        "    print(f\"File '{file_path}' does not exist.\")"
      ],
      "metadata": {
        "id": "J-fY2W8va6_T",
        "colab": {
          "base_uri": "https://localhost:8080/"
        },
        "outputId": "e9014c39-06a6-4a91-c142-f8693f427182"
      },
      "execution_count": 55,
      "outputs": [
        {
          "output_type": "stream",
          "name": "stdout",
          "text": [
            "File content: This is some text in the file.\n",
            "Another line of content.\n"
          ]
        }
      ]
    },
    {
      "cell_type": "code",
      "source": [
        "#14.Write a program that uses a logging module to log both informational and error messages\n",
        "import logging\n",
        "logging.basicConfig(\n",
        "    level=logging.INFO,  # Set the minimum logging level to INFO\n",
        "    format='%(asctime)s - %(levelname)s - %(message)s',\n",
        "    handlers=[\n",
        "        logging.FileHandler(\"app.log\"),  # Log to a file\n",
        "        logging.StreamHandler()  # Log to the console\n",
        "    ]\n",
        ")\n",
        "\n",
        "logger = logging.getLogger(__name__)\n",
        "\n",
        "def perform_operation(value):\n",
        "    if value > 0:\n",
        "        logger.info(f\"Operation successful: Input value is {value}\")\n",
        "    else:\n",
        "        logger.error(f\"Operation failed: Input value {value} is not positive\")\n",
        "        raise ValueError(\"Value must be positive for successful operation.\")\n",
        "logger.info(\"Starting application...\")\n",
        "\n",
        "try:\n",
        "    perform_operation(10)  # This will log an informational message\n",
        "    perform_operation(-5)  # This will log an error message and raise an exception\n",
        "except ValueError as e:\n",
        "    logger.error(f\"Caught an exception during operation: {e}\")\n",
        "\n",
        "logger.info(\"Application finished.\")"
      ],
      "metadata": {
        "id": "2QmnI2MMa7Hp",
        "colab": {
          "base_uri": "https://localhost:8080/"
        },
        "outputId": "b1658883-8679-47fe-909a-c32baf08a163"
      },
      "execution_count": 59,
      "outputs": [
        {
          "output_type": "stream",
          "name": "stderr",
          "text": [
            "ERROR:__main__:Operation failed: Input value -5 is not positive\n",
            "ERROR:__main__:Caught an exception during operation: Value must be positive for successful operation.\n"
          ]
        }
      ]
    },
    {
      "cell_type": "code",
      "source": [
        "#15.Write a python program that print the content of a fike and handles the case when the fike is empty\n",
        "import os\n",
        "\n",
        "def print_file_content(filename):\n",
        "\n",
        "    if not os.path.exists(filename):\n",
        "        print(f\"Error: File '{filename}' not found.\")\n",
        "        return\n",
        "\n",
        "    try:\n",
        "        with open(filename, 'r') as file:\n",
        "            content = file.read()\n",
        "            if not content:  # Checks if the content string is empty\n",
        "                print(f\"The file '{filename}' is empty.\")\n",
        "            else:\n",
        "                print(f\"Content of '{filename}':\")\n",
        "                print(content)\n",
        "    except Exception as e:\n",
        "        print(f\"An error occurred while reading the file: {e}\")\n",
        "\n"
      ],
      "metadata": {
        "id": "iEqKkjdEcRlw"
      },
      "execution_count": 18,
      "outputs": []
    },
    {
      "cell_type": "code",
      "source": [
        "#16.Demonstrate how to use memory profiling to check the memory uses of a small program\n",
        "pip install memory-profiler\n",
        "from memory_profiler import profile\n",
        "\n",
        "@profile\n",
        "def my_function():\n",
        "    a = [1] * (10 ** 6)  # Creates a list of 1 million ones\n",
        "    b = [2] * (2 * 10 ** 7)  # Creates a list of 20 million twos\n",
        "    del b  # Deletes the larger list, releasing its memory\n",
        "    return a\n",
        "\n",
        "if __name__ == '__main__':\n",
        "    my_function()\n",
        "python -m memory_profiler memory_test.py"
      ],
      "metadata": {
        "id": "1vnkml8Hch95",
        "colab": {
          "base_uri": "https://localhost:8080/",
          "height": 106
        },
        "outputId": "c882bd17-375e-4028-dc99-230e727f06b6"
      },
      "execution_count": 94,
      "outputs": [
        {
          "output_type": "error",
          "ename": "SyntaxError",
          "evalue": "invalid syntax (ipython-input-2257497367.py, line 2)",
          "traceback": [
            "\u001b[0;36m  File \u001b[0;32m\"/tmp/ipython-input-2257497367.py\"\u001b[0;36m, line \u001b[0;32m2\u001b[0m\n\u001b[0;31m    pip install memory-profiler\u001b[0m\n\u001b[0m        ^\u001b[0m\n\u001b[0;31mSyntaxError\u001b[0m\u001b[0;31m:\u001b[0m invalid syntax\n"
          ]
        }
      ]
    },
    {
      "cell_type": "code",
      "source": [
        "#17.Write a python program to creat and write a list of number toa file,one number per line\n",
        "def write_numbers_to_file(filename, numbers_list):\n",
        "    try:\n",
        "        with open(filename, 'w') as file:\n",
        "            for number in numbers_list:\n",
        "                file.write(str(number) + '\\n')\n",
        "        print(f\"Numbers successfully written to '{filename}'.\")\n",
        "    except IOError as e:\n",
        "        print(f\"Error writing to file: {e}\")"
      ],
      "metadata": {
        "id": "33zFQT30cxdq"
      },
      "execution_count": 62,
      "outputs": []
    },
    {
      "cell_type": "code",
      "source": [
        "#18. How would you implement a basic logging that logs to a file with rotation after 1mb\n",
        "import logging\n",
        "from logging.handlers import RotatingFileHandler\n",
        "logger = logging.getLogger(__name__)\n",
        "logger.setLevel(logging.INFO)\n",
        "log_file = \"app.log\"\n",
        "max_bytes = 1 * 1024 * 1024  # 1 MB\n",
        "backup_count = 5"
      ],
      "metadata": {
        "id": "Z9axWd5ncyCZ"
      },
      "execution_count": 90,
      "outputs": []
    },
    {
      "cell_type": "code",
      "source": [
        "#19.Write a program that handle both indexerror and keyerror using atry-except block\n",
        "def handle_errors(data, index, key):\n",
        "    try:\n",
        "        my_list = data[\"my_list\"]\n",
        "        list_element = my_list[index]\n",
        "        print(f\"Accessed list element at index {index}: {list_element}\")\n",
        "\n",
        "        dict_value = data[key]\n",
        "        print(f\"Accessed dictionary value for key '{key}': {dict_value}\")\n",
        "\n",
        "    except IndexError:\n",
        "        print(f\"Error: IndexError occurred. Index {index} is out of range for the list.\")\n",
        "    except KeyError:\n",
        "        print(f\"Error: KeyError occurred. Key '{key}' not found in the dictionary.\")\n",
        "    except Exception as e:\n",
        "        print(f\"An unexpected error occurred: {e}\")"
      ],
      "metadata": {
        "id": "yYbZ8sLccyOx"
      },
      "execution_count": 76,
      "outputs": []
    },
    {
      "cell_type": "code",
      "source": [
        "#20.How would you open a file and read it's content using a context manager in python\n",
        "with open('my_file.txt', 'w') as f:\n",
        "    f.write(\"This is line 1.\\n\")\n",
        "    f.write(\"This is line 2.\\n\")\n",
        "    f.write(\"And this is the final line.\")\n",
        "\n",
        "\n",
        "with open('my_file.txt', 'r') as file:\n",
        "    content = file.read()\n",
        "    print(content)"
      ],
      "metadata": {
        "id": "kVS7b_Lkcybb",
        "colab": {
          "base_uri": "https://localhost:8080/"
        },
        "outputId": "52d59f41-9250-4773-f6dc-921646ba1963"
      },
      "execution_count": 83,
      "outputs": [
        {
          "output_type": "stream",
          "name": "stdout",
          "text": [
            "This is line 1.\n",
            "This is line 2.\n",
            "And this is the final line.\n"
          ]
        }
      ]
    },
    {
      "cell_type": "code",
      "source": [
        "#21. Write a python program that read a file and prints the number of occurence of a specific word\n",
        "def count_word_occurrences(filepath, target_word):\n",
        "\n",
        "    count = 0\n",
        "    try:\n",
        "        with open(filepath, 'r', encoding='utf-8') as file:\n",
        "            for line in file:\n",
        "                # Convert the line and target word to lowercase for case-insensitive matching\n",
        "                words_in_line = line.lower().split()\n",
        "                for word in words_in_line:\n",
        "                    # Remove punctuation from the word before comparison\n",
        "                    cleaned_word = ''.join(char for char in word if char.isalnum())\n",
        "                    if cleaned_word == target_word.lower():\n",
        "                        count += 1\n",
        "    except FileNotFoundError:\n",
        "        print(f\"Error: The file '{filepath}' was not found.\")\n",
        "        return -1  # Indicate an error\n",
        "    except Exception as e:\n",
        "        print(f\"An error occurred: {e}\")\n",
        "        return -1\n",
        "    return count\n",
        "\n",
        "if __name__ == \"__main__\":\n",
        "    file_name = \"sample.txt\"\n",
        "    word_to_find = \"python\"\n",
        "    with open(file_name, 'w', encoding='utf-8') as f:\n",
        "        f.write(\"Python is a powerful language. Learn Python programming.\\n\")\n",
        "        f.write(\"Many people enjoy using Python for various tasks.\\n\")\n",
        "\n",
        "    occurrences = count_word_occurrences(file_name, word_to_find)\n",
        "\n",
        "    if occurrences != -1:\n",
        "        print(f\"The word '{word_to_find}' appears {occurrences} times in '{file_name}'.\")"
      ],
      "metadata": {
        "id": "jKoNUqHvdlFb",
        "colab": {
          "base_uri": "https://localhost:8080/"
        },
        "outputId": "798e889b-0008-445f-b883-13e14d4060b7"
      },
      "execution_count": 84,
      "outputs": [
        {
          "output_type": "stream",
          "name": "stdout",
          "text": [
            "The word 'python' appears 3 times in 'sample.txt'.\n"
          ]
        }
      ]
    },
    {
      "cell_type": "code",
      "source": [
        "#22.How can you check if a file is empty before attempting to raed it's content\n",
        "import os\n",
        "\n",
        "file_path = \"your_file.txt\"\n",
        "\n",
        "if os.path.exists(file_path):\n",
        "    if os.path.getsize(file_path) == 0:\n",
        "        print(f\"The file '{file_path}' is empty.\")\n",
        "    else:\n",
        "        print(f\"The file '{file_path}' is not empty.\")\n",
        "else:\n",
        "    print(f\"The file '{file_path}' does not exist.\")"
      ],
      "metadata": {
        "id": "0UselCJCdy3J",
        "colab": {
          "base_uri": "https://localhost:8080/"
        },
        "outputId": "f85583fe-8f2e-49d8-8790-68549db2478e"
      },
      "execution_count": 85,
      "outputs": [
        {
          "output_type": "stream",
          "name": "stdout",
          "text": [
            "The file 'my_document.txt' is not empty.\n"
          ]
        }
      ]
    },
    {
      "cell_type": "code",
      "source": [
        "#23. Write a python program that write to alog file when an error occur during file handeling\n",
        "import logging\n",
        "logging.basicConfig(\n",
        "    filename='file_handling_errors.log',  # Name of the log file\n",
        "    level=logging.ERROR,                 # Log only messages of level ERROR and higher\n",
        "    format='%(asctime)s - %(levelname)s - %(message)s' # Define the log message format\n",
        ")\n",
        "\n",
        "def read_file_with_error_logging(filepath):\n",
        "    try:\n",
        "        with open(filepath, 'r') as file:\n",
        "            content = file.read()\n",
        "            print(f\"File content:\\n{content}\")\n",
        "    except FileNotFoundError:\n",
        "        logging.error(f\"Error: The file '{filepath}' was not found.\")\n",
        "    except IOError as e:\n",
        "        logging.error(f\"Error: An I/O error occurred while handling '{filepath}': {e}\")\n",
        "    except Exception as e:\n",
        "        logging.error(f\"An unexpected error occurred: {e}\")"
      ],
      "metadata": {
        "id": "d50raCCjeNTG"
      },
      "execution_count": 89,
      "outputs": []
    }
  ]
}